{
 "cells": [
  {
   "cell_type": "code",
   "execution_count": 3,
   "metadata": {},
   "outputs": [
    {
     "name": "stdout",
     "output_type": "stream",
     "text": [
      "1\n",
      "1 1\n",
      "1 2 1\n",
      "1 3 3 1\n",
      "1 4 6 4 1\n"
     ]
    }
   ],
   "source": [
    "def khayyam_mosallas(n):\n",
    "    list1=[]\n",
    "    for i in range(n):\n",
    "        list1.append([1]*(i+1))\n",
    "    for i in range(2,n):  \n",
    "        for j in range(1,i)  :\n",
    "            list1[i][j]=list1[i-1][j-1]+list1[i-1][j]\n",
    "    return list1\n",
    "mosallas=khayyam_mosallas(5)\n",
    "mosallas=[str(i) for i in mosallas]\n",
    "mosallas=[i.replace(',','') for i in mosallas]\n",
    "mosallas=[i.replace('[','') for i in mosallas]\n",
    "mosallas=[i.replace(']','') for i in mosallas]\n",
    "for i in mosallas:\n",
    "    print(i)\n"
   ]
  }
 ],
 "metadata": {
  "interpreter": {
   "hash": "09934530269d6f2bdd28149ebb9200515a8ae3af3ac8cf88d57930d3324e68a0"
  },
  "kernelspec": {
   "display_name": "Python 3.10.1 64-bit (windows store)",
   "language": "python",
   "name": "python3"
  },
  "language_info": {
   "codemirror_mode": {
    "name": "ipython",
    "version": 3
   },
   "file_extension": ".py",
   "mimetype": "text/x-python",
   "name": "python",
   "nbconvert_exporter": "python",
   "pygments_lexer": "ipython3",
   "version": "3.10.1"
  },
  "orig_nbformat": 4
 },
 "nbformat": 4,
 "nbformat_minor": 2
}
